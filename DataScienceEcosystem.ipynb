{
 "cells": [
  {
   "cell_type": "markdown",
   "id": "814c9e1f",
   "metadata": {},
   "source": [
    "# Data Science Tools and Ecosystem"
   ]
  },
  {
   "cell_type": "markdown",
   "id": "0c113f21",
   "metadata": {},
   "source": [
    "# In this notebook, Data Science Tools and Ecosystem are summarized."
   ]
  },
  {
   "cell_type": "markdown",
   "id": "c1a13991",
   "metadata": {},
   "source": [
    "**objectives:**\n",
    "-python\n",
    "-julia\n",
    "-java\n",
    "-r\n"
   ]
  },
  {
   "cell_type": "markdown",
   "id": "80e07f7e",
   "metadata": {},
   "source": [
    "# Some of the popular languages that Data Scientists use are:"
   ]
  },
  {
   "cell_type": "markdown",
   "id": "02f6a467",
   "metadata": {},
   "source": [
    "1.Python\n",
    "2.R\n",
    "3.Julia\n",
    "4.Scala"
   ]
  },
  {
   "cell_type": "markdown",
   "id": "bd0e6220",
   "metadata": {},
   "source": [
    "# Some of the commonly used libraries used by Data Scientists include:"
   ]
  },
  {
   "cell_type": "markdown",
   "id": "e0479928",
   "metadata": {},
   "source": [
    "1.TENSOR FLOW\n",
    "2.GGPLOT\n",
    "3.APACHE SPARK\n",
    "4.PANDAS\n",
    "5.NUMPY"
   ]
  },
  {
   "cell_type": "markdown",
   "id": "1c8636ad",
   "metadata": {},
   "source": [
    "| data science tools |\n",
    "|--------------------|\n",
    "|jupiter notebook|\n",
    "|anaconda|\n",
    "|jupiter lyte|"
   ]
  },
  {
   "cell_type": "markdown",
   "id": "03c95ed3",
   "metadata": {},
   "source": [
    "### Below are a few examples of evaluating arithmetic expressions in Python"
   ]
  },
  {
   "cell_type": "code",
   "execution_count": 1,
   "id": "7486d160",
   "metadata": {},
   "outputs": [
    {
     "data": {
      "text/plain": [
       "17"
      ]
     },
     "execution_count": 1,
     "metadata": {},
     "output_type": "execute_result"
    }
   ],
   "source": [
    "##This a simple arithmetic expression to mutiply then add integers\n",
    "(3*4)+5"
   ]
  },
  {
   "cell_type": "code",
   "execution_count": 2,
   "id": "765967c3",
   "metadata": {},
   "outputs": [
    {
     "name": "stdout",
     "output_type": "stream",
     "text": [
      "3.3333333333333335\n"
     ]
    }
   ],
   "source": [
    "#This will convert 200 minutes to hours by diving by 60\n",
    "print(200/60)"
   ]
  },
  {
   "cell_type": "markdown",
   "id": "506cc2cb",
   "metadata": {},
   "source": [
    "## Author\n",
    "ALLI CHIRANJEEVI"
   ]
  },
  {
   "cell_type": "code",
   "execution_count": null,
   "id": "f0dbaab4",
   "metadata": {},
   "outputs": [],
   "source": []
  }
 ],
 "metadata": {
  "kernelspec": {
   "display_name": "Python 3 (ipykernel)",
   "language": "python",
   "name": "python3"
  },
  "language_info": {
   "codemirror_mode": {
    "name": "ipython",
    "version": 3
   },
   "file_extension": ".py",
   "mimetype": "text/x-python",
   "name": "python",
   "nbconvert_exporter": "python",
   "pygments_lexer": "ipython3",
   "version": "3.10.9"
  }
 },
 "nbformat": 4,
 "nbformat_minor": 5
}
